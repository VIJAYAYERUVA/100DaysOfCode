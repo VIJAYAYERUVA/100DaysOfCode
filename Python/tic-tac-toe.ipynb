{
 "cells": [
  {
   "cell_type": "markdown",
   "metadata": {},
   "source": [
    "### First project in Python on 1/14/2021"
   ]
  },
  {
   "cell_type": "code",
   "execution_count": 1,
   "metadata": {},
   "outputs": [],
   "source": [
    "board = [' ']*9\n",
    "selected = [0,1,2,3,4,5,6,7,8]\n",
    "win = False"
   ]
  },
  {
   "cell_type": "code",
   "execution_count": 2,
   "metadata": {},
   "outputs": [
    {
     "data": {
      "text/plain": [
       "[' ', ' ', ' ', ' ', ' ', ' ', ' ', ' ', ' ']"
      ]
     },
     "execution_count": 2,
     "metadata": {},
     "output_type": "execute_result"
    }
   ],
   "source": [
    "board"
   ]
  },
  {
   "cell_type": "code",
   "execution_count": 3,
   "metadata": {},
   "outputs": [],
   "source": [
    "def display_board(board):\n",
    "    print(board[0]+'|'+board[1]+'|'+board[2])\n",
    "    print(board[3]+'|'+board[4]+'|'+board[5])\n",
    "    print(board[6]+'|'+board[7]+'|'+board[8])"
   ]
  },
  {
   "cell_type": "code",
   "execution_count": 4,
   "metadata": {},
   "outputs": [],
   "source": [
    "def player_symbol():\n",
    "    \n",
    "    p1_symbol = ' '\n",
    "    \n",
    "    while p1_symbol not in ['o', 'x']:\n",
    "        p1_symbol = input('Player1, enter your symbol [o or x]: ')\n",
    "    if p1_symbol == 'o':\n",
    "        p2_symbol = 'x'\n",
    "    else:\n",
    "        p2_symbol = 'o'\n",
    "    return (p1_symbol, p2_symbol)"
   ]
  },
  {
   "cell_type": "code",
   "execution_count": 5,
   "metadata": {},
   "outputs": [],
   "source": [
    "def player1_choice(selected):\n",
    "    \n",
    "    p1_choice = ''\n",
    "    \n",
    "    while p1_choice not in selected:\n",
    "        p1_choice = int(input(f'Player1, enter your choice from the list {selected}: '))\n",
    "    return int(p1_choice)"
   ]
  },
  {
   "cell_type": "code",
   "execution_count": 6,
   "metadata": {},
   "outputs": [],
   "source": [
    "def player2_choice(selected):\n",
    "    \n",
    "    p2_choice = ''\n",
    "    \n",
    "    while p2_choice not in selected:\n",
    "        p2_choice = int(input(f'Player2, enter your choice from the list {selected}: '))    \n",
    "    return int(p2_choice)"
   ]
  },
  {
   "cell_type": "code",
   "execution_count": 7,
   "metadata": {},
   "outputs": [],
   "source": [
    "def update_board1(p1_symbol, p1_choice):\n",
    "    board[p1_choice] = p1_symbol\n",
    "    display_board(board)"
   ]
  },
  {
   "cell_type": "code",
   "execution_count": 8,
   "metadata": {},
   "outputs": [],
   "source": [
    "def update_board2(p2_symbol, p2_choice):\n",
    "    board[p2_choice] = p2_symbol\n",
    "    display_board(board)"
   ]
  },
  {
   "cell_type": "code",
   "execution_count": 9,
   "metadata": {},
   "outputs": [],
   "source": [
    "def game(board, p1_symbol, p2_symbol):\n",
    "    if board[0] == board[1] == board[2] == p1_symbol:\n",
    "        print('Congratulations! Player1, you won the game.')\n",
    "        win = True\n",
    "    elif board[0] == board[1] == board[2] == p2_symbol:\n",
    "        print('Congratulations! Player2, you won the game.')\n",
    "        win = True\n",
    "    elif board[3] == board[4] == board[5] == p1_symbol:\n",
    "        print('Congratulations! Player1, you won the game.')\n",
    "        win = True\n",
    "    elif board[3] == board[4] == board[5] == p2_symbol:\n",
    "        print('Congratulations! Player2, you won the game.')\n",
    "        win = True\n",
    "    elif board[6] == board[7] == board[8] == p1_symbol:\n",
    "        print('Congratulations! Player1, you won the game.')\n",
    "        win = True\n",
    "    elif board[6] == board[7] == board[8] == p2_symbol:\n",
    "        print('Congratulations! Player2, you won the game.')\n",
    "        win = True\n",
    "    elif board[0] == board[3] == board[6] == p1_symbol:\n",
    "        print('Congratulations! Player1, you won the game.')\n",
    "        win = True\n",
    "    elif board[0] == board[3] == board[6] == p2_symbol:\n",
    "        print('Congratulations! Player2, you won the game.')\n",
    "        win = True\n",
    "    elif board[1] == board[4] == board[7] == p1_symbol:\n",
    "        print('Congratulations! Player1, you won the game.')\n",
    "        win = True\n",
    "    elif board[1] == board[4] == board[7] == p2_symbol:\n",
    "        print('Congratulations! Player2, you won the game.')\n",
    "        win = True\n",
    "    elif board[2] == board[5] == board[8] == p1_symbol:\n",
    "        print('Congratulations! Player1, you won the game.')\n",
    "        win = True\n",
    "    elif board[2] == board[5] == board[8] == p2_symbol:\n",
    "        print('Congratulations! Player2, you won the game.')\n",
    "        win = True\n",
    "    elif board[0] == board[4] == board[8] == p1_symbol:\n",
    "        print('Congratulations! Player1, you won the game.')\n",
    "        win = True\n",
    "    elif board[0] == board[4] == board[8] == p2_symbol:\n",
    "        print('Congratulations! Player2, you won the game.')\n",
    "        win = True\n",
    "    elif board[2] == board[4] == board[6] == p1_symbol:\n",
    "        print('Congratulations! Player1, you won the game.')\n",
    "        win = True\n",
    "    elif board[2] == board[4] == board[6] == p2_symbol:\n",
    "        print('Congratulations! Player2, you won the game.')\n",
    "        win = True\n",
    "    else:\n",
    "        win = False\n",
    "    return win"
   ]
  },
  {
   "cell_type": "code",
   "execution_count": 10,
   "metadata": {},
   "outputs": [],
   "source": [
    "def play(board, selected, p1_symbol, p2_symbol, win):\n",
    "    \n",
    "    while not win:\n",
    "        if len(selected) != 0:\n",
    "            p1_choice = player1_choice(selected)\n",
    "            selected.remove(p1_choice)\n",
    "            update_board1(p1_symbol, p1_choice)\n",
    "            win = game(board, p1_symbol, p2_symbol)\n",
    "        else:\n",
    "            print('Board is Full')\n",
    "            win = True\n",
    "            \n",
    "        if len(selected) != 0 and not win:\n",
    "            p2_choice = player2_choice(selected)\n",
    "            selected.remove(p2_choice)\n",
    "            update_board2(p2_symbol, p2_choice)\n",
    "            win = game(board, p1_symbol, p2_symbol)\n",
    "        else:\n",
    "            print('Either Board is Full or Player1 won the game')\n",
    "            win = True"
   ]
  },
  {
   "cell_type": "code",
   "execution_count": 11,
   "metadata": {},
   "outputs": [
    {
     "name": "stdout",
     "output_type": "stream",
     "text": [
      "Player1, enter your symbol [o or x]: o\n",
      "Player1, enter your choice from the list [0, 1, 2, 3, 4, 5, 6, 7, 8]: 0\n",
      "o| | \n",
      " | | \n",
      " | | \n",
      "Player2, enter your choice from the list [1, 2, 3, 4, 5, 6, 7, 8]: 2\n",
      "o| |x\n",
      " | | \n",
      " | | \n",
      "Player1, enter your choice from the list [1, 3, 4, 5, 6, 7, 8]: 3\n",
      "o| |x\n",
      "o| | \n",
      " | | \n",
      "Player2, enter your choice from the list [1, 4, 5, 6, 7, 8]: 6\n",
      "o| |x\n",
      "o| | \n",
      "x| | \n",
      "Player1, enter your choice from the list [1, 4, 5, 7, 8]: 4\n",
      "o| |x\n",
      "o|o| \n",
      "x| | \n",
      "Player2, enter your choice from the list [1, 5, 7, 8]: 1\n",
      "o|x|x\n",
      "o|o| \n",
      "x| | \n",
      "Player1, enter your choice from the list [5, 7, 8]: 7\n",
      "o|x|x\n",
      "o|o| \n",
      "x|o| \n",
      "Player2, enter your choice from the list [5, 8]: 5\n",
      "o|x|x\n",
      "o|o|x\n",
      "x|o| \n",
      "Player1, enter your choice from the list [8]: 8\n",
      "o|x|x\n",
      "o|o|x\n",
      "x|o|o\n",
      "Congratulations! Player1, you won the game.\n",
      "Either Board is Full or Player1 won the game\n"
     ]
    }
   ],
   "source": [
    "p1_symbol, p2_symbol = player_symbol()\n",
    "play(board, selected, p1_symbol, p2_symbol, win)"
   ]
  }
 ],
 "metadata": {
  "kernelspec": {
   "display_name": "Python 3",
   "language": "python",
   "name": "python3"
  },
  "language_info": {
   "codemirror_mode": {
    "name": "ipython",
    "version": 3
   },
   "file_extension": ".py",
   "mimetype": "text/x-python",
   "name": "python",
   "nbconvert_exporter": "python",
   "pygments_lexer": "ipython3",
   "version": "3.8.5"
  }
 },
 "nbformat": 4,
 "nbformat_minor": 4
}
